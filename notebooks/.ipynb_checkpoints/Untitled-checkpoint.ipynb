{
 "cells": [
  {
   "cell_type": "code",
   "execution_count": 1,
   "metadata": {},
   "outputs": [],
   "source": [
    "import numpy as np\n",
    "import matplotlib.pyplot as plt"
   ]
  },
  {
   "cell_type": "markdown",
   "metadata": {},
   "source": [
    "### Exponential similarity"
   ]
  },
  {
   "cell_type": "code",
   "execution_count": 2,
   "metadata": {},
   "outputs": [],
   "source": [
    "np.random.seed(seed=10)\n",
    "#r = np.abs(np.random.randn(1000))\n",
    "#t = np.random.randn(1000)\n",
    "#x = r *np.cos(2*np.pi*t)\n",
    "#y = r* np.sin(2*np.pi*t)\n",
    "x = np.random.randn(1000)\n",
    "y = np.random.randn(1000)\n",
    "r = np.sqrt(x**2 + y**2)\n",
    "## Distribution centered on zero\n",
    "def simil(sigma):\n",
    "    p = np.exp(-(x**2 + y**2)/(4*sigma**2))\n",
    "    p = p/p.sum()\n",
    "    return p"
   ]
  },
  {
   "cell_type": "code",
   "execution_count": null,
   "metadata": {},
   "outputs": [],
   "source": [
    "\n",
    "for sigma in [0.1,0.2,0.5,1.0,2.0]:\n",
    "    fig, ax = plt.subplots(1, figsize=(10,5))\n",
    "    scatt = ax.scatter(x,y, c=simil(sigma), marker='.', cmap='viridis_r')\n",
    "    #circle = plt.Circle((0, 0), 2*sigma, color='r', fill=False, label='Circle of radius 2sigma')\n",
    "    #ax.add_artist(circle)\n",
    "    cbar = plt.colorbar(scatt)\n",
    "    cbar.ax.get_yaxis().labelpad = 15\n",
    "    cbar.ax.set_ylabel('Similarity to (0,0)', rotation=270)\n",
    "    plt.axis('off')\n",
    "    fig.suptitle(f'Similarity to (0,0) for sigma={sigma}')\n",
    "    plt.savefig(f'../slides/pic/similarity_{sigma}.pdf', transparent=True)\n",
    "    plt.close()"
   ]
  },
  {
   "cell_type": "code",
   "execution_count": null,
   "metadata": {},
   "outputs": [],
   "source": [
    "def perp(s):\n",
    "    p = simil(s)\n",
    "    return 2**np.sum(-p*np.log2(p))\n",
    "\n",
    "def count_incircle(s):\n",
    "    return (r<2*s).sum()\n",
    "sigmas = np.linspace(0.1,2,1000)\n",
    "sigma_perp = np.array(list(map(perp, sigmas)))\n",
    "sigma_count = np.array(list(map(count_incircle, sigmas)))\n",
    "###\n",
    "fig, ax = plt.subplots(1,2,figsize=(13,5))\n",
    "ax[0].scatter(sigmas, sigma_perp, label='Perplexity', marker='.')\n",
    "ax[0].scatter(sigmas, sigma_count, label = '#Sample in Ball(0,2*sigma)', marker='.')\n",
    "ax[0].set_xlabel('sigma')\n",
    "ax[0].legend()\n",
    "#    \n",
    "scatt = ax[1].scatter(x,y, c=simil(0.4), marker='.', cmap='viridis_r')\n",
    "circle = plt.Circle((0, 0), 2*0.2, color='r', fill=False, label='Circle of radius 2*sigma')\n",
    "ax[1].add_artist(circle)\n",
    "ax[1].legend(handles=[circle])\n",
    "ax[1].axis('off')\n",
    "cbar = plt.colorbar(scatt)\n",
    "cbar.ax.get_yaxis().labelpad = 15\n",
    "cbar.ax.set_ylabel('Similarity to (0,0)', rotation=270)\n",
    "plt.savefig('../slides/pic/perplexity.pdf', transaparent=True)"
   ]
  },
  {
   "cell_type": "code",
   "execution_count": null,
   "metadata": {},
   "outputs": [],
   "source": [
    "list(map(simil, sigma))\n"
   ]
  },
  {
   "cell_type": "code",
   "execution_count": null,
   "metadata": {},
   "outputs": [],
   "source": [
    "np.arctan(2/200)*180/np.pi"
   ]
  },
  {
   "cell_type": "code",
   "execution_count": null,
   "metadata": {},
   "outputs": [],
   "source": []
  }
 ],
 "metadata": {
  "kernelspec": {
   "display_name": "Python (base)",
   "language": "python",
   "name": "base"
  },
  "language_info": {
   "codemirror_mode": {
    "name": "ipython",
    "version": 3
   },
   "file_extension": ".py",
   "mimetype": "text/x-python",
   "name": "python",
   "nbconvert_exporter": "python",
   "pygments_lexer": "ipython3",
   "version": "3.7.4"
  }
 },
 "nbformat": 4,
 "nbformat_minor": 4
}
